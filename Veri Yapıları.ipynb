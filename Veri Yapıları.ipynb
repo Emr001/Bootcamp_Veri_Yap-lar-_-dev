{
 "cells": [
  {
   "cell_type": "markdown",
   "metadata": {},
   "source": [
    "## Problem 1"
   ]
  },
  {
   "cell_type": "code",
   "execution_count": 5,
   "metadata": {},
   "outputs": [
    {
     "name": "stdout",
     "output_type": "stream",
     "text": [
      "dict_items([('1', 'Pazartesi'), ('2', 'Salı'), ('3', 'Carsamba'), ('4', 'Persembe'), ('5', 'Cuma'), ('6', 'Cumartesi'), ('7', 'Pazar')])\n",
      "Silmek istediginiz ilk günün rakamını giriniz:1\n",
      "Silmek istediginiz ikinci günün rakamını giriniz:2\n",
      "{'3': 'Carsamba', '4': 'Persembe', '5': 'Cuma', '6': 'Cumartesi', '7': 'Pazar'}\n"
     ]
    }
   ],
   "source": [
    "günler = {\"1\":\"Pazartesi\",\"2\": \"Salı\",\"3\": \"Carsamba\",\n",
    "         \"4\":\"Persembe\", \"5\":\"Cuma\",\n",
    "         \"6\":\"Cumartesi\", \"7\":\"Pazar\"}\n",
    "print(günler.items())\n",
    "kullanıcı1 = str(input(\"Silmek istediginiz ilk günün rakamını giriniz:\"))\n",
    "kullanıcı2 = str(input(\"Silmek istediginiz ikinci günün rakamını giriniz:\"))\n",
    "del günler[kullanıcı1]\n",
    "del günler[kullanıcı2]\n",
    "print(günler)"
   ]
  },
  {
   "cell_type": "markdown",
   "metadata": {},
   "source": [
    "## Problem 2"
   ]
  },
  {
   "cell_type": "code",
   "execution_count": 8,
   "metadata": {},
   "outputs": [
    {
     "name": "stdout",
     "output_type": "stream",
     "text": [
      "[['Ocak', 31], ['Subat', 28], ['Mart', 31], ['Nisan', 30], ['Mayıs', 31], ['Haziran', 30], ['Temmuz', 31], ['Agustos', 31], ['Eylul', 30], ['Ekim', 31], ['Kasım', 30], ['Aralık', 31]]\n"
     ]
    }
   ],
   "source": [
    "aylar = [[\"Ocak\",31],[\"Subat\",28],[\"Mart\",31],[\"Nisan\",30],[\"Mayıs\",31],\n",
    "        [\"Haziran\",30],[\"Temmuz\",31],[\"Agustos\",31],[\"Eylul\",30],\n",
    "        [\"Ekim\",31],[\"Kasım\",30],[\"Aralık\",31]]\n",
    "print(aylar)"
   ]
  },
  {
   "cell_type": "markdown",
   "metadata": {},
   "source": [
    "## Problem 3"
   ]
  },
  {
   "cell_type": "code",
   "execution_count": 9,
   "metadata": {},
   "outputs": [
    {
     "name": "stdout",
     "output_type": "stream",
     "text": [
      "['Pazartesi', 'Salı', 'Carsamba', 'Persembe', 'Cuma', 'Cumartesi', 'Pazar', ['Ocak', 'Subat', 'Mart', 'Nisan', 'Mayıs', 'Haziran', 'Temmuz', 'Agustos', 'Eylul', 'Ekim', 'Kasım', 'Aralık']]\n"
     ]
    }
   ],
   "source": [
    "aylar = [\"Ocak\",\"Subat\",\"Mart\",\"Nisan\",\"Mayıs\",\"Haziran\",\n",
    "         \"Temmuz\",\"Agustos\",\"Eylul\",\"Ekim\",\"Kasım\",\"Aralık\"]\n",
    "aylar1 = [\"Pazartesi\",\"Salı\",\"Carsamba\",\"Persembe\",\"Cuma\",\"Cumartesi\",\"Pazar\"]\n",
    "aylar1.append(aylar)\n",
    "print(aylar1)\n"
   ]
  },
  {
   "cell_type": "markdown",
   "metadata": {},
   "source": [
    "## Problem 4"
   ]
  },
  {
   "cell_type": "code",
   "execution_count": 12,
   "metadata": {},
   "outputs": [
    {
     "name": "stdout",
     "output_type": "stream",
     "text": [
      "['Mart', 'Nisan', 'Mayıs']\n",
      "['Haziran', 'Temmuz', 'Agustos']\n",
      "['Eylul', 'Ekim', 'Kasım']\n",
      "['Aralık', 'Ocak', 'Subat']\n"
     ]
    }
   ],
   "source": [
    "ilkbahar = [\"Mart\",\"Nisan\",\"Mayıs\"]\n",
    "yaz = [\"Haziran\",\"Temmuz\",\"Agustos\"]\n",
    "sonbahar = [\"Eylul\",\"Ekim\",\"Kasım\"]\n",
    "kıs = [\"Aralık\",\"Ocak\",\"Subat\"]\n",
    "print(ilkbahar)\n",
    "print(yaz)\n",
    "print(sonbahar)\n",
    "print(kıs)"
   ]
  },
  {
   "cell_type": "markdown",
   "metadata": {},
   "source": [
    "## Problem 5"
   ]
  },
  {
   "cell_type": "code",
   "execution_count": 13,
   "metadata": {},
   "outputs": [
    {
     "name": "stdout",
     "output_type": "stream",
     "text": [
      "92\n"
     ]
    }
   ],
   "source": [
    "yaz = [[\"Haziran\",30],[\"Temmuz\",31],[\"Agustos\",31]]\n",
    "print(yaz[0][1]+yaz[1][1] + yaz[2][1])\n"
   ]
  },
  {
   "cell_type": "code",
   "execution_count": null,
   "metadata": {},
   "outputs": [],
   "source": []
  }
 ],
 "metadata": {
  "kernelspec": {
   "display_name": "Python 3",
   "language": "python",
   "name": "python3"
  },
  "language_info": {
   "codemirror_mode": {
    "name": "ipython",
    "version": 3
   },
   "file_extension": ".py",
   "mimetype": "text/x-python",
   "name": "python",
   "nbconvert_exporter": "python",
   "pygments_lexer": "ipython3",
   "version": "3.8.5"
  }
 },
 "nbformat": 4,
 "nbformat_minor": 4
}
